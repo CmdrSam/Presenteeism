{
 "cells": [
  {
   "cell_type": "code",
   "execution_count": 1,
   "metadata": {},
   "outputs": [],
   "source": [
    "import pandas as pd\n",
    "import numpy as np\n",
    "import seaborn as sns\n",
    "import matplotlib.pyplot as plt"
   ]
  },
  {
   "cell_type": "code",
   "execution_count": 2,
   "metadata": {
    "scrolled": false
   },
   "outputs": [
    {
     "data": {
      "text/html": [
       "<div>\n",
       "<style scoped>\n",
       "    .dataframe tbody tr th:only-of-type {\n",
       "        vertical-align: middle;\n",
       "    }\n",
       "\n",
       "    .dataframe tbody tr th {\n",
       "        vertical-align: top;\n",
       "    }\n",
       "\n",
       "    .dataframe thead th {\n",
       "        text-align: right;\n",
       "    }\n",
       "</style>\n",
       "<table border=\"1\" class=\"dataframe\">\n",
       "  <thead>\n",
       "    <tr style=\"text-align: right;\">\n",
       "      <th></th>\n",
       "      <th>ID</th>\n",
       "      <th>Gender</th>\n",
       "      <th>Age_Group</th>\n",
       "      <th>Age</th>\n",
       "      <th>Marital_Status</th>\n",
       "      <th>Race</th>\n",
       "      <th>Religion</th>\n",
       "      <th>Tenure</th>\n",
       "      <th>Highest_Education</th>\n",
       "      <th>G1</th>\n",
       "      <th>...</th>\n",
       "      <th>JobDemand_Workload</th>\n",
       "      <th>JobDemand_Emo</th>\n",
       "      <th>JobDemand_Cog</th>\n",
       "      <th>JOB_DEMAND</th>\n",
       "      <th>JobInsecurity_Imp</th>\n",
       "      <th>JobInsecurity_Prob</th>\n",
       "      <th>JOB_INSECURITY</th>\n",
       "      <th>Level_Presenteesim</th>\n",
       "      <th>Level_JobDemand</th>\n",
       "      <th>Level_JobInsecurity</th>\n",
       "    </tr>\n",
       "  </thead>\n",
       "  <tbody>\n",
       "    <tr>\n",
       "      <th>0</th>\n",
       "      <td>A1</td>\n",
       "      <td>1</td>\n",
       "      <td>2.0</td>\n",
       "      <td>28</td>\n",
       "      <td>2</td>\n",
       "      <td>1</td>\n",
       "      <td>1</td>\n",
       "      <td>2</td>\n",
       "      <td>4</td>\n",
       "      <td>2</td>\n",
       "      <td>...</td>\n",
       "      <td>12</td>\n",
       "      <td>20</td>\n",
       "      <td>17</td>\n",
       "      <td>49</td>\n",
       "      <td>27</td>\n",
       "      <td>31</td>\n",
       "      <td>58</td>\n",
       "      <td>Medium</td>\n",
       "      <td>Medium</td>\n",
       "      <td>Medium</td>\n",
       "    </tr>\n",
       "    <tr>\n",
       "      <th>1</th>\n",
       "      <td>A2</td>\n",
       "      <td>2</td>\n",
       "      <td>1.0</td>\n",
       "      <td>25</td>\n",
       "      <td>2</td>\n",
       "      <td>1</td>\n",
       "      <td>1</td>\n",
       "      <td>2</td>\n",
       "      <td>3</td>\n",
       "      <td>5</td>\n",
       "      <td>...</td>\n",
       "      <td>13</td>\n",
       "      <td>18</td>\n",
       "      <td>7</td>\n",
       "      <td>38</td>\n",
       "      <td>43</td>\n",
       "      <td>30</td>\n",
       "      <td>73</td>\n",
       "      <td>Medium</td>\n",
       "      <td>Low</td>\n",
       "      <td>High</td>\n",
       "    </tr>\n",
       "    <tr>\n",
       "      <th>2</th>\n",
       "      <td>A3</td>\n",
       "      <td>1</td>\n",
       "      <td>2.0</td>\n",
       "      <td>28</td>\n",
       "      <td>2</td>\n",
       "      <td>1</td>\n",
       "      <td>1</td>\n",
       "      <td>2</td>\n",
       "      <td>3</td>\n",
       "      <td>3</td>\n",
       "      <td>...</td>\n",
       "      <td>20</td>\n",
       "      <td>18</td>\n",
       "      <td>9</td>\n",
       "      <td>47</td>\n",
       "      <td>43</td>\n",
       "      <td>45</td>\n",
       "      <td>88</td>\n",
       "      <td>Medium</td>\n",
       "      <td>Medium</td>\n",
       "      <td>High</td>\n",
       "    </tr>\n",
       "    <tr>\n",
       "      <th>3</th>\n",
       "      <td>A4</td>\n",
       "      <td>2</td>\n",
       "      <td>2.0</td>\n",
       "      <td>30</td>\n",
       "      <td>2</td>\n",
       "      <td>1</td>\n",
       "      <td>1</td>\n",
       "      <td>3</td>\n",
       "      <td>3</td>\n",
       "      <td>4</td>\n",
       "      <td>...</td>\n",
       "      <td>17</td>\n",
       "      <td>20</td>\n",
       "      <td>13</td>\n",
       "      <td>50</td>\n",
       "      <td>36</td>\n",
       "      <td>25</td>\n",
       "      <td>61</td>\n",
       "      <td>Medium</td>\n",
       "      <td>Medium</td>\n",
       "      <td>Medium</td>\n",
       "    </tr>\n",
       "    <tr>\n",
       "      <th>4</th>\n",
       "      <td>A5</td>\n",
       "      <td>2</td>\n",
       "      <td>2.0</td>\n",
       "      <td>33</td>\n",
       "      <td>2</td>\n",
       "      <td>1</td>\n",
       "      <td>1</td>\n",
       "      <td>2</td>\n",
       "      <td>3</td>\n",
       "      <td>5</td>\n",
       "      <td>...</td>\n",
       "      <td>13</td>\n",
       "      <td>19</td>\n",
       "      <td>25</td>\n",
       "      <td>57</td>\n",
       "      <td>13</td>\n",
       "      <td>21</td>\n",
       "      <td>34</td>\n",
       "      <td>High</td>\n",
       "      <td>Medium</td>\n",
       "      <td>Low</td>\n",
       "    </tr>\n",
       "  </tbody>\n",
       "</table>\n",
       "<p>5 rows × 65 columns</p>\n",
       "</div>"
      ],
      "text/plain": [
       "   ID  Gender  Age_Group  Age  Marital_Status  Race  Religion  Tenure  \\\n",
       "0  A1       1        2.0   28               2     1         1       2   \n",
       "1  A2       2        1.0   25               2     1         1       2   \n",
       "2  A3       1        2.0   28               2     1         1       2   \n",
       "3  A4       2        2.0   30               2     1         1       3   \n",
       "4  A5       2        2.0   33               2     1         1       2   \n",
       "\n",
       "   Highest_Education  G1  ...  JobDemand_Workload  JobDemand_Emo  \\\n",
       "0                  4   2  ...                  12             20   \n",
       "1                  3   5  ...                  13             18   \n",
       "2                  3   3  ...                  20             18   \n",
       "3                  3   4  ...                  17             20   \n",
       "4                  3   5  ...                  13             19   \n",
       "\n",
       "   JobDemand_Cog  JOB_DEMAND  JobInsecurity_Imp  JobInsecurity_Prob  \\\n",
       "0             17          49                 27                  31   \n",
       "1              7          38                 43                  30   \n",
       "2              9          47                 43                  45   \n",
       "3             13          50                 36                  25   \n",
       "4             25          57                 13                  21   \n",
       "\n",
       "   JOB_INSECURITY  Level_Presenteesim  Level_JobDemand  Level_JobInsecurity  \n",
       "0              58              Medium           Medium               Medium  \n",
       "1              73              Medium              Low                 High  \n",
       "2              88              Medium           Medium                 High  \n",
       "3              61              Medium           Medium               Medium  \n",
       "4              34                High           Medium                  Low  \n",
       "\n",
       "[5 rows x 65 columns]"
      ]
     },
     "execution_count": 2,
     "metadata": {},
     "output_type": "execute_result"
    }
   ],
   "source": [
    "data = pd.read_csv(\"data.csv\")\n",
    "data.head()"
   ]
  },
  {
   "cell_type": "code",
   "execution_count": 3,
   "metadata": {},
   "outputs": [
    {
     "data": {
      "text/plain": [
       "<AxesSubplot:>"
      ]
     },
     "execution_count": 3,
     "metadata": {},
     "output_type": "execute_result"
    },
    {
     "data": {
      "image/png": "[encoded data removed]",
      "text/plain": [
       "<Figure size 792x648 with 2 Axes>"
      ]
     },
     "metadata": {
      "needs_background": "light"
     },
     "output_type": "display_data"
    }
   ],
   "source": [
    "corr = data.corr()\n",
    "mask = np.triu(np.ones_like(corr, dtype=bool))\n",
    "f, ax = plt.subplots(figsize=(11, 9))\n",
    "cmap = sns.diverging_palette(230, 20, as_cmap=True)\n",
    "sns.heatmap(corr, mask=mask, cmap=cmap, vmax=.3, center=0,square=True, linewidths=.5, cbar_kws={\"shrink\": .5})"
   ]
  },
  {
   "cell_type": "code",
   "execution_count": 4,
   "metadata": {
    "scrolled": false
   },
   "outputs": [
    {
     "data": {
      "text/html": [
       "<div>\n",
       "<style scoped>\n",
       "    .dataframe tbody tr th:only-of-type {\n",
       "        vertical-align: middle;\n",
       "    }\n",
       "\n",
       "    .dataframe tbody tr th {\n",
       "        vertical-align: top;\n",
       "    }\n",
       "\n",
       "    .dataframe thead th {\n",
       "        text-align: right;\n",
       "    }\n",
       "</style>\n",
       "<table border=\"1\" class=\"dataframe\">\n",
       "  <thead>\n",
       "    <tr style=\"text-align: right;\">\n",
       "      <th></th>\n",
       "      <th>ID</th>\n",
       "      <th>Gender</th>\n",
       "      <th>Age_Group</th>\n",
       "      <th>Age</th>\n",
       "      <th>Marital_Status</th>\n",
       "      <th>Race</th>\n",
       "      <th>Religion</th>\n",
       "      <th>Tenure</th>\n",
       "      <th>Highest_Education</th>\n",
       "      <th>G1</th>\n",
       "      <th>...</th>\n",
       "      <th>JobDemand_Workload</th>\n",
       "      <th>JobDemand_Emo</th>\n",
       "      <th>JobDemand_Cog</th>\n",
       "      <th>JOB_DEMAND</th>\n",
       "      <th>JobInsecurity_Imp</th>\n",
       "      <th>JobInsecurity_Prob</th>\n",
       "      <th>JOB_INSECURITY</th>\n",
       "      <th>Level_Presenteesim</th>\n",
       "      <th>Level_JobDemand</th>\n",
       "      <th>Level_JobInsecurity</th>\n",
       "    </tr>\n",
       "  </thead>\n",
       "  <tbody>\n",
       "    <tr>\n",
       "      <th>0</th>\n",
       "      <td>A1</td>\n",
       "      <td>1</td>\n",
       "      <td>2.0</td>\n",
       "      <td>28</td>\n",
       "      <td>2</td>\n",
       "      <td>1</td>\n",
       "      <td>1</td>\n",
       "      <td>2</td>\n",
       "      <td>4</td>\n",
       "      <td>2</td>\n",
       "      <td>...</td>\n",
       "      <td>12</td>\n",
       "      <td>20</td>\n",
       "      <td>17</td>\n",
       "      <td>49</td>\n",
       "      <td>27</td>\n",
       "      <td>31</td>\n",
       "      <td>58</td>\n",
       "      <td>Medium</td>\n",
       "      <td>Medium</td>\n",
       "      <td>Medium</td>\n",
       "    </tr>\n",
       "    <tr>\n",
       "      <th>1</th>\n",
       "      <td>A2</td>\n",
       "      <td>2</td>\n",
       "      <td>1.0</td>\n",
       "      <td>25</td>\n",
       "      <td>2</td>\n",
       "      <td>1</td>\n",
       "      <td>1</td>\n",
       "      <td>2</td>\n",
       "      <td>3</td>\n",
       "      <td>5</td>\n",
       "      <td>...</td>\n",
       "      <td>13</td>\n",
       "      <td>18</td>\n",
       "      <td>7</td>\n",
       "      <td>38</td>\n",
       "      <td>43</td>\n",
       "      <td>30</td>\n",
       "      <td>73</td>\n",
       "      <td>Medium</td>\n",
       "      <td>Low</td>\n",
       "      <td>High</td>\n",
       "    </tr>\n",
       "    <tr>\n",
       "      <th>2</th>\n",
       "      <td>A3</td>\n",
       "      <td>1</td>\n",
       "      <td>2.0</td>\n",
       "      <td>28</td>\n",
       "      <td>2</td>\n",
       "      <td>1</td>\n",
       "      <td>1</td>\n",
       "      <td>2</td>\n",
       "      <td>3</td>\n",
       "      <td>3</td>\n",
       "      <td>...</td>\n",
       "      <td>20</td>\n",
       "      <td>18</td>\n",
       "      <td>9</td>\n",
       "      <td>47</td>\n",
       "      <td>43</td>\n",
       "      <td>45</td>\n",
       "      <td>88</td>\n",
       "      <td>Medium</td>\n",
       "      <td>Medium</td>\n",
       "      <td>High</td>\n",
       "    </tr>\n",
       "    <tr>\n",
       "      <th>3</th>\n",
       "      <td>A4</td>\n",
       "      <td>2</td>\n",
       "      <td>2.0</td>\n",
       "      <td>30</td>\n",
       "      <td>2</td>\n",
       "      <td>1</td>\n",
       "      <td>1</td>\n",
       "      <td>3</td>\n",
       "      <td>3</td>\n",
       "      <td>4</td>\n",
       "      <td>...</td>\n",
       "      <td>17</td>\n",
       "      <td>20</td>\n",
       "      <td>13</td>\n",
       "      <td>50</td>\n",
       "      <td>36</td>\n",
       "      <td>25</td>\n",
       "      <td>61</td>\n",
       "      <td>Medium</td>\n",
       "      <td>Medium</td>\n",
       "      <td>Medium</td>\n",
       "    </tr>\n",
       "    <tr>\n",
       "      <th>4</th>\n",
       "      <td>A5</td>\n",
       "      <td>2</td>\n",
       "      <td>2.0</td>\n",
       "      <td>33</td>\n",
       "      <td>2</td>\n",
       "      <td>1</td>\n",
       "      <td>1</td>\n",
       "      <td>2</td>\n",
       "      <td>3</td>\n",
       "      <td>5</td>\n",
       "      <td>...</td>\n",
       "      <td>13</td>\n",
       "      <td>19</td>\n",
       "      <td>25</td>\n",
       "      <td>57</td>\n",
       "      <td>13</td>\n",
       "      <td>21</td>\n",
       "      <td>34</td>\n",
       "      <td>High</td>\n",
       "      <td>Medium</td>\n",
       "      <td>Low</td>\n",
       "    </tr>\n",
       "  </tbody>\n",
       "</table>\n",
       "<p>5 rows × 65 columns</p>\n",
       "</div>"
      ],
      "text/plain": [
       "   ID  Gender  Age_Group  Age  Marital_Status  Race  Religion  Tenure  \\\n",
       "0  A1       1        2.0   28               2     1         1       2   \n",
       "1  A2       2        1.0   25               2     1         1       2   \n",
       "2  A3       1        2.0   28               2     1         1       2   \n",
       "3  A4       2        2.0   30               2     1         1       3   \n",
       "4  A5       2        2.0   33               2     1         1       2   \n",
       "\n",
       "   Highest_Education  G1  ...  JobDemand_Workload  JobDemand_Emo  \\\n",
       "0                  4   2  ...                  12             20   \n",
       "1                  3   5  ...                  13             18   \n",
       "2                  3   3  ...                  20             18   \n",
       "3                  3   4  ...                  17             20   \n",
       "4                  3   5  ...                  13             19   \n",
       "\n",
       "   JobDemand_Cog  JOB_DEMAND  JobInsecurity_Imp  JobInsecurity_Prob  \\\n",
       "0             17          49                 27                  31   \n",
       "1              7          38                 43                  30   \n",
       "2              9          47                 43                  45   \n",
       "3             13          50                 36                  25   \n",
       "4             25          57                 13                  21   \n",
       "\n",
       "   JOB_INSECURITY  Level_Presenteesim  Level_JobDemand  Level_JobInsecurity  \n",
       "0              58              Medium           Medium               Medium  \n",
       "1              73              Medium              Low                 High  \n",
       "2              88              Medium           Medium                 High  \n",
       "3              61              Medium           Medium               Medium  \n",
       "4              34                High           Medium                  Low  \n",
       "\n",
       "[5 rows x 65 columns]"
      ]
     },
     "execution_count": 4,
     "metadata": {},
     "output_type": "execute_result"
    }
   ],
   "source": [
    "data.head()"
   ]
  },
  {
   "cell_type": "code",
   "execution_count": 5,
   "metadata": {},
   "outputs": [
    {
     "data": {
      "text/html": [
       "<div>\n",
       "<style scoped>\n",
       "    .dataframe tbody tr th:only-of-type {\n",
       "        vertical-align: middle;\n",
       "    }\n",
       "\n",
       "    .dataframe tbody tr th {\n",
       "        vertical-align: top;\n",
       "    }\n",
       "\n",
       "    .dataframe thead th {\n",
       "        text-align: right;\n",
       "    }\n",
       "</style>\n",
       "<table border=\"1\" class=\"dataframe\">\n",
       "  <thead>\n",
       "    <tr style=\"text-align: right;\">\n",
       "      <th></th>\n",
       "      <th>Number of People</th>\n",
       "    </tr>\n",
       "  </thead>\n",
       "  <tbody>\n",
       "    <tr>\n",
       "      <th>2.0</th>\n",
       "      <td>279</td>\n",
       "    </tr>\n",
       "    <tr>\n",
       "      <th>1.0</th>\n",
       "      <td>61</td>\n",
       "    </tr>\n",
       "    <tr>\n",
       "      <th>3.0</th>\n",
       "      <td>7</td>\n",
       "    </tr>\n",
       "  </tbody>\n",
       "</table>\n",
       "</div>"
      ],
      "text/plain": [
       "     Number of People\n",
       "2.0               279\n",
       "1.0                61\n",
       "3.0                 7"
      ]
     },
     "execution_count": 5,
     "metadata": {},
     "output_type": "execute_result"
    }
   ],
   "source": [
    "AgeData = pd.DataFrame(data['Age_Group'].value_counts())\n",
    "AgeData[\"Number of People\"] = AgeData[\"Age_Group\"]\n",
    "AgeData = AgeData.drop(labels=\"Age_Group\",axis=1)\n",
    "AgeData"
   ]
  },
  {
   "cell_type": "code",
   "execution_count": 6,
   "metadata": {
    "scrolled": true
   },
   "outputs": [
    {
     "name": "stdout",
     "output_type": "stream",
     "text": [
      "279 61 7\n"
     ]
    }
   ],
   "source": [
    "#25-30 gp1 2.0\n",
    "#31-35 gp2 1.0\n",
    "#36+ gp3 3.0\n",
    "AgeGp1 = data['Age_Group'].value_counts()[2]\n",
    "AgeGp2 = data['Age_Group'].value_counts()[1]\n",
    "AgeGp3 = data['Age_Group'].value_counts()[3]\n",
    "print(AgeGp1,AgeGp2,AgeGp3)"
   ]
  },
  {
   "cell_type": "markdown",
   "metadata": {},
   "source": [
    "# Plot 1"
   ]
  },
  {
   "cell_type": "code",
   "execution_count": 7,
   "metadata": {
    "scrolled": true
   },
   "outputs": [
    {
     "data": {
      "image/png": "[encoded data removed]",
      "text/plain": [
       "<Figure size 432x288 with 1 Axes>"
      ]
     },
     "metadata": {
      "needs_background": "light"
     },
     "output_type": "display_data"
    }
   ],
   "source": [
    "Age = sns.barplot(x=AgeData.index, y='Number of People', data=AgeData, ci=None, palette=\"muted\",orient='v' )"
   ]
  },
  {
   "cell_type": "code",
   "execution_count": 8,
   "metadata": {
    "scrolled": true
   },
   "outputs": [
    {
     "ename": "AttributeError",
     "evalue": "'AxesSubplot' object has no attribute 'savefig'",
     "output_type": "error",
     "traceback": [
      "\u001b[1;31m---------------------------------------------------------------------------\u001b[0m",
      "\u001b[1;31mAttributeError\u001b[0m                            Traceback (most recent call last)",
      "\u001b[1;32m<ipython-input-8-49df93874eaa>\u001b[0m in \u001b[0;36m<module>\u001b[1;34m\u001b[0m\n\u001b[0;32m      1\u001b[0m \u001b[1;31m#Age.savefig(\"Plots/Age-Bar.png\")\u001b[0m\u001b[1;33m\u001b[0m\u001b[1;33m\u001b[0m\u001b[1;33m\u001b[0m\u001b[0m\n\u001b[1;32m----> 2\u001b[1;33m \u001b[0mAge\u001b[0m\u001b[1;33m.\u001b[0m\u001b[0msavefig\u001b[0m\u001b[1;33m(\u001b[0m\u001b[1;34m\"AgeBar.png\"\u001b[0m\u001b[1;33m)\u001b[0m\u001b[1;33m\u001b[0m\u001b[1;33m\u001b[0m\u001b[0m\n\u001b[0m",
      "\u001b[1;31mAttributeError\u001b[0m: 'AxesSubplot' object has no attribute 'savefig'"
     ]
    }
   ],
   "source": [
    "#Age.savefig(\"Plots/Age-Bar.png\")\n",
    "Age.savefig(\"AgeBar.png\")"
   ]
  },
  {
   "cell_type": "code",
   "execution_count": 9,
   "metadata": {},
   "outputs": [
    {
     "data": {
      "text/html": [
       "<div>\n",
       "<style scoped>\n",
       "    .dataframe tbody tr th:only-of-type {\n",
       "        vertical-align: middle;\n",
       "    }\n",
       "\n",
       "    .dataframe tbody tr th {\n",
       "        vertical-align: top;\n",
       "    }\n",
       "\n",
       "    .dataframe thead th {\n",
       "        text-align: right;\n",
       "    }\n",
       "</style>\n",
       "<table border=\"1\" class=\"dataframe\">\n",
       "  <thead>\n",
       "    <tr style=\"text-align: right;\">\n",
       "      <th></th>\n",
       "      <th>Gender</th>\n",
       "      <th>Age_Group</th>\n",
       "      <th>Age</th>\n",
       "      <th>Marital_Status</th>\n",
       "      <th>Race</th>\n",
       "      <th>Religion</th>\n",
       "      <th>Tenure</th>\n",
       "      <th>Highest_Education</th>\n",
       "      <th>G1</th>\n",
       "      <th>G2</th>\n",
       "      <th>...</th>\n",
       "      <th>JobDemand_Workload</th>\n",
       "      <th>JobDemand_Emo</th>\n",
       "      <th>JobDemand_Cog</th>\n",
       "      <th>JOB_DEMAND</th>\n",
       "      <th>JobInsecurity_Imp</th>\n",
       "      <th>JobInsecurity_Prob</th>\n",
       "      <th>JOB_INSECURITY</th>\n",
       "      <th>Level_Presenteesim</th>\n",
       "      <th>Level_JobDemand</th>\n",
       "      <th>Level_JobInsecurity</th>\n",
       "    </tr>\n",
       "  </thead>\n",
       "  <tbody>\n",
       "    <tr>\n",
       "      <th>0</th>\n",
       "      <td>1</td>\n",
       "      <td>2.0</td>\n",
       "      <td>28</td>\n",
       "      <td>2</td>\n",
       "      <td>1</td>\n",
       "      <td>1</td>\n",
       "      <td>2</td>\n",
       "      <td>4</td>\n",
       "      <td>2</td>\n",
       "      <td>3</td>\n",
       "      <td>...</td>\n",
       "      <td>12</td>\n",
       "      <td>20</td>\n",
       "      <td>17</td>\n",
       "      <td>49</td>\n",
       "      <td>27</td>\n",
       "      <td>31</td>\n",
       "      <td>58</td>\n",
       "      <td>Medium</td>\n",
       "      <td>Medium</td>\n",
       "      <td>Medium</td>\n",
       "    </tr>\n",
       "    <tr>\n",
       "      <th>1</th>\n",
       "      <td>2</td>\n",
       "      <td>1.0</td>\n",
       "      <td>25</td>\n",
       "      <td>2</td>\n",
       "      <td>1</td>\n",
       "      <td>1</td>\n",
       "      <td>2</td>\n",
       "      <td>3</td>\n",
       "      <td>5</td>\n",
       "      <td>3</td>\n",
       "      <td>...</td>\n",
       "      <td>13</td>\n",
       "      <td>18</td>\n",
       "      <td>7</td>\n",
       "      <td>38</td>\n",
       "      <td>43</td>\n",
       "      <td>30</td>\n",
       "      <td>73</td>\n",
       "      <td>Medium</td>\n",
       "      <td>Low</td>\n",
       "      <td>High</td>\n",
       "    </tr>\n",
       "    <tr>\n",
       "      <th>2</th>\n",
       "      <td>1</td>\n",
       "      <td>2.0</td>\n",
       "      <td>28</td>\n",
       "      <td>2</td>\n",
       "      <td>1</td>\n",
       "      <td>1</td>\n",
       "      <td>2</td>\n",
       "      <td>3</td>\n",
       "      <td>3</td>\n",
       "      <td>5</td>\n",
       "      <td>...</td>\n",
       "      <td>20</td>\n",
       "      <td>18</td>\n",
       "      <td>9</td>\n",
       "      <td>47</td>\n",
       "      <td>43</td>\n",
       "      <td>45</td>\n",
       "      <td>88</td>\n",
       "      <td>Medium</td>\n",
       "      <td>Medium</td>\n",
       "      <td>High</td>\n",
       "    </tr>\n",
       "    <tr>\n",
       "      <th>3</th>\n",
       "      <td>2</td>\n",
       "      <td>2.0</td>\n",
       "      <td>30</td>\n",
       "      <td>2</td>\n",
       "      <td>1</td>\n",
       "      <td>1</td>\n",
       "      <td>3</td>\n",
       "      <td>3</td>\n",
       "      <td>4</td>\n",
       "      <td>4</td>\n",
       "      <td>...</td>\n",
       "      <td>17</td>\n",
       "      <td>20</td>\n",
       "      <td>13</td>\n",
       "      <td>50</td>\n",
       "      <td>36</td>\n",
       "      <td>25</td>\n",
       "      <td>61</td>\n",
       "      <td>Medium</td>\n",
       "      <td>Medium</td>\n",
       "      <td>Medium</td>\n",
       "    </tr>\n",
       "    <tr>\n",
       "      <th>4</th>\n",
       "      <td>2</td>\n",
       "      <td>2.0</td>\n",
       "      <td>33</td>\n",
       "      <td>2</td>\n",
       "      <td>1</td>\n",
       "      <td>1</td>\n",
       "      <td>2</td>\n",
       "      <td>3</td>\n",
       "      <td>5</td>\n",
       "      <td>5</td>\n",
       "      <td>...</td>\n",
       "      <td>13</td>\n",
       "      <td>19</td>\n",
       "      <td>25</td>\n",
       "      <td>57</td>\n",
       "      <td>13</td>\n",
       "      <td>21</td>\n",
       "      <td>34</td>\n",
       "      <td>High</td>\n",
       "      <td>Medium</td>\n",
       "      <td>Low</td>\n",
       "    </tr>\n",
       "  </tbody>\n",
       "</table>\n",
       "<p>5 rows × 64 columns</p>\n",
       "</div>"
      ],
      "text/plain": [
       "   Gender  Age_Group  Age  Marital_Status  Race  Religion  Tenure  \\\n",
       "0       1        2.0   28               2     1         1       2   \n",
       "1       2        1.0   25               2     1         1       2   \n",
       "2       1        2.0   28               2     1         1       2   \n",
       "3       2        2.0   30               2     1         1       3   \n",
       "4       2        2.0   33               2     1         1       2   \n",
       "\n",
       "   Highest_Education  G1  G2  ...  JobDemand_Workload  JobDemand_Emo  \\\n",
       "0                  4   2   3  ...                  12             20   \n",
       "1                  3   5   3  ...                  13             18   \n",
       "2                  3   3   5  ...                  20             18   \n",
       "3                  3   4   4  ...                  17             20   \n",
       "4                  3   5   5  ...                  13             19   \n",
       "\n",
       "   JobDemand_Cog  JOB_DEMAND  JobInsecurity_Imp  JobInsecurity_Prob  \\\n",
       "0             17          49                 27                  31   \n",
       "1              7          38                 43                  30   \n",
       "2              9          47                 43                  45   \n",
       "3             13          50                 36                  25   \n",
       "4             25          57                 13                  21   \n",
       "\n",
       "   JOB_INSECURITY  Level_Presenteesim  Level_JobDemand  Level_JobInsecurity  \n",
       "0              58              Medium           Medium               Medium  \n",
       "1              73              Medium              Low                 High  \n",
       "2              88              Medium           Medium                 High  \n",
       "3              61              Medium           Medium               Medium  \n",
       "4              34                High           Medium                  Low  \n",
       "\n",
       "[5 rows x 64 columns]"
      ]
     },
     "execution_count": 9,
     "metadata": {},
     "output_type": "execute_result"
    }
   ],
   "source": [
    "clean = data.drop(\"ID\",axis=1)\n",
    "clean.head()"
   ]
  },
  {
   "cell_type": "code",
   "execution_count": 10,
   "metadata": {
    "scrolled": false
   },
   "outputs": [
    {
     "data": {
      "text/plain": [
       "Index(['ID', 'Gender', 'Age_Group', 'Age', 'Marital_Status', 'Race',\n",
       "       'Religion', 'Tenure', 'Highest_Education', 'G1', 'G2', 'G3', 'G4', 'G5',\n",
       "       'G6', 'I1', 'I2', 'I3', 'I4', 'I5', 'I6', 'I7', 'I8', 'I9', 'I10',\n",
       "       'I11', 'I12', 'I13', 'I14', 'I15', 'I16', 'I17', 'I18', 'I19', 'J1',\n",
       "       'J2', 'J3', 'J4', 'J5', 'J6', 'J7', 'J8', 'J9', 'J10', 'J11', 'J12',\n",
       "       'J13', 'J14', 'J15', 'J16', 'J17', 'J18', 'P_Complete_Task',\n",
       "       'P_Avoid_Dist', 'PRESENTEEISM', 'JobDemand_Workload', 'JobDemand_Emo',\n",
       "       'JobDemand_Cog', 'JOB_DEMAND', 'JobInsecurity_Imp',\n",
       "       'JobInsecurity_Prob', 'JOB_INSECURITY', 'Level_Presenteesim',\n",
       "       'Level_JobDemand', 'Level_JobInsecurity'],\n",
       "      dtype='object')"
      ]
     },
     "execution_count": 10,
     "metadata": {},
     "output_type": "execute_result"
    }
   ],
   "source": [
    "data.columns"
   ]
  },
  {
   "cell_type": "code",
   "execution_count": 11,
   "metadata": {},
   "outputs": [
    {
     "data": {
      "text/plain": [
       "24    48\n",
       "23    44\n",
       "21    36\n",
       "20    35\n",
       "19    30\n",
       "18    28\n",
       "22    26\n",
       "25    20\n",
       "17    16\n",
       "26    15\n",
       "27    14\n",
       "30    10\n",
       "16     9\n",
       "29     6\n",
       "14     3\n",
       "28     3\n",
       "13     2\n",
       "12     1\n",
       "11     1\n",
       "Name: PRESENTEEISM, dtype: int64"
      ]
     },
     "execution_count": 11,
     "metadata": {},
     "output_type": "execute_result"
    }
   ],
   "source": [
    "data[\"PRESENTEEISM\"].value_counts()"
   ]
  },
  {
   "cell_type": "code",
   "execution_count": 12,
   "metadata": {
    "scrolled": true
   },
   "outputs": [
    {
     "data": {
      "text/html": [
       "<div>\n",
       "<style scoped>\n",
       "    .dataframe tbody tr th:only-of-type {\n",
       "        vertical-align: middle;\n",
       "    }\n",
       "\n",
       "    .dataframe tbody tr th {\n",
       "        vertical-align: top;\n",
       "    }\n",
       "\n",
       "    .dataframe thead th {\n",
       "        text-align: right;\n",
       "    }\n",
       "</style>\n",
       "<table border=\"1\" class=\"dataframe\">\n",
       "  <thead>\n",
       "    <tr style=\"text-align: right;\">\n",
       "      <th></th>\n",
       "      <th>Gender</th>\n",
       "      <th>Age_Group</th>\n",
       "      <th>Age</th>\n",
       "      <th>Marital_Status</th>\n",
       "      <th>Race</th>\n",
       "      <th>Religion</th>\n",
       "      <th>Tenure</th>\n",
       "      <th>Highest_Education</th>\n",
       "      <th>G1</th>\n",
       "      <th>G2</th>\n",
       "      <th>...</th>\n",
       "      <th>JobDemand_Workload</th>\n",
       "      <th>JobDemand_Emo</th>\n",
       "      <th>JobDemand_Cog</th>\n",
       "      <th>JOB_DEMAND</th>\n",
       "      <th>JobInsecurity_Imp</th>\n",
       "      <th>JobInsecurity_Prob</th>\n",
       "      <th>JOB_INSECURITY</th>\n",
       "      <th>Level_Presenteesim</th>\n",
       "      <th>Level_JobDemand</th>\n",
       "      <th>Level_JobInsecurity</th>\n",
       "    </tr>\n",
       "  </thead>\n",
       "  <tbody>\n",
       "    <tr>\n",
       "      <th>0</th>\n",
       "      <td>1</td>\n",
       "      <td>2</td>\n",
       "      <td>28</td>\n",
       "      <td>2</td>\n",
       "      <td>1</td>\n",
       "      <td>1</td>\n",
       "      <td>2</td>\n",
       "      <td>4</td>\n",
       "      <td>2</td>\n",
       "      <td>3</td>\n",
       "      <td>...</td>\n",
       "      <td>12</td>\n",
       "      <td>20</td>\n",
       "      <td>17</td>\n",
       "      <td>49</td>\n",
       "      <td>27</td>\n",
       "      <td>31</td>\n",
       "      <td>58</td>\n",
       "      <td>2</td>\n",
       "      <td>2</td>\n",
       "      <td>2</td>\n",
       "    </tr>\n",
       "    <tr>\n",
       "      <th>1</th>\n",
       "      <td>2</td>\n",
       "      <td>1</td>\n",
       "      <td>25</td>\n",
       "      <td>2</td>\n",
       "      <td>1</td>\n",
       "      <td>1</td>\n",
       "      <td>2</td>\n",
       "      <td>3</td>\n",
       "      <td>5</td>\n",
       "      <td>3</td>\n",
       "      <td>...</td>\n",
       "      <td>13</td>\n",
       "      <td>18</td>\n",
       "      <td>7</td>\n",
       "      <td>38</td>\n",
       "      <td>43</td>\n",
       "      <td>30</td>\n",
       "      <td>73</td>\n",
       "      <td>2</td>\n",
       "      <td>1</td>\n",
       "      <td>3</td>\n",
       "    </tr>\n",
       "    <tr>\n",
       "      <th>2</th>\n",
       "      <td>1</td>\n",
       "      <td>2</td>\n",
       "      <td>28</td>\n",
       "      <td>2</td>\n",
       "      <td>1</td>\n",
       "      <td>1</td>\n",
       "      <td>2</td>\n",
       "      <td>3</td>\n",
       "      <td>3</td>\n",
       "      <td>5</td>\n",
       "      <td>...</td>\n",
       "      <td>20</td>\n",
       "      <td>18</td>\n",
       "      <td>9</td>\n",
       "      <td>47</td>\n",
       "      <td>43</td>\n",
       "      <td>45</td>\n",
       "      <td>88</td>\n",
       "      <td>2</td>\n",
       "      <td>2</td>\n",
       "      <td>3</td>\n",
       "    </tr>\n",
       "    <tr>\n",
       "      <th>3</th>\n",
       "      <td>2</td>\n",
       "      <td>2</td>\n",
       "      <td>30</td>\n",
       "      <td>2</td>\n",
       "      <td>1</td>\n",
       "      <td>1</td>\n",
       "      <td>3</td>\n",
       "      <td>3</td>\n",
       "      <td>4</td>\n",
       "      <td>4</td>\n",
       "      <td>...</td>\n",
       "      <td>17</td>\n",
       "      <td>20</td>\n",
       "      <td>13</td>\n",
       "      <td>50</td>\n",
       "      <td>36</td>\n",
       "      <td>25</td>\n",
       "      <td>61</td>\n",
       "      <td>2</td>\n",
       "      <td>2</td>\n",
       "      <td>2</td>\n",
       "    </tr>\n",
       "    <tr>\n",
       "      <th>4</th>\n",
       "      <td>2</td>\n",
       "      <td>2</td>\n",
       "      <td>33</td>\n",
       "      <td>2</td>\n",
       "      <td>1</td>\n",
       "      <td>1</td>\n",
       "      <td>2</td>\n",
       "      <td>3</td>\n",
       "      <td>5</td>\n",
       "      <td>5</td>\n",
       "      <td>...</td>\n",
       "      <td>13</td>\n",
       "      <td>19</td>\n",
       "      <td>25</td>\n",
       "      <td>57</td>\n",
       "      <td>13</td>\n",
       "      <td>21</td>\n",
       "      <td>34</td>\n",
       "      <td>3</td>\n",
       "      <td>2</td>\n",
       "      <td>1</td>\n",
       "    </tr>\n",
       "  </tbody>\n",
       "</table>\n",
       "<p>5 rows × 64 columns</p>\n",
       "</div>"
      ],
      "text/plain": [
       "   Gender  Age_Group  Age  Marital_Status  Race  Religion  Tenure  \\\n",
       "0       1          2   28               2     1         1       2   \n",
       "1       2          1   25               2     1         1       2   \n",
       "2       1          2   28               2     1         1       2   \n",
       "3       2          2   30               2     1         1       3   \n",
       "4       2          2   33               2     1         1       2   \n",
       "\n",
       "   Highest_Education  G1  G2  ...  JobDemand_Workload  JobDemand_Emo  \\\n",
       "0                  4   2   3  ...                  12             20   \n",
       "1                  3   5   3  ...                  13             18   \n",
       "2                  3   3   5  ...                  20             18   \n",
       "3                  3   4   4  ...                  17             20   \n",
       "4                  3   5   5  ...                  13             19   \n",
       "\n",
       "   JobDemand_Cog  JOB_DEMAND  JobInsecurity_Imp  JobInsecurity_Prob  \\\n",
       "0             17          49                 27                  31   \n",
       "1              7          38                 43                  30   \n",
       "2              9          47                 43                  45   \n",
       "3             13          50                 36                  25   \n",
       "4             25          57                 13                  21   \n",
       "\n",
       "   JOB_INSECURITY  Level_Presenteesim  Level_JobDemand  Level_JobInsecurity  \n",
       "0              58                   2                2                    2  \n",
       "1              73                   2                1                    3  \n",
       "2              88                   2                2                    3  \n",
       "3              61                   2                2                    2  \n",
       "4              34                   3                2                    1  \n",
       "\n",
       "[5 rows x 64 columns]"
      ]
     },
     "execution_count": 12,
     "metadata": {},
     "output_type": "execute_result"
    }
   ],
   "source": [
    "# Defining Low=1 Medium=2 High=3\n",
    "def level(i):\n",
    "    if (i==\"Low\"):\n",
    "        return 1\n",
    "    elif (i==\"Medium\"):\n",
    "        return 2\n",
    "    else:\n",
    "        return 3\n",
    "\n",
    "def toInteger(i):\n",
    "    return int(i)\n",
    "\n",
    "data[\"Level_Presenteesim\"] = data[\"Level_Presenteesim\"].apply(level)\n",
    "data[\"Level_JobDemand\"] = data[\"Level_JobDemand\"].apply(level)\n",
    "data[\"Level_JobInsecurity\"] = data[\"Level_JobInsecurity\"].apply(level)\n",
    "\n",
    "data[\"Age_Group\"] = data[\"Age_Group\"].apply(toInteger)\n",
    "data = data.drop(\"ID\",axis=1)\n",
    "data.head()"
   ]
  },
  {
   "cell_type": "code",
   "execution_count": 13,
   "metadata": {
    "scrolled": false
   },
   "outputs": [
    {
     "data": {
      "image/png": "[encoded data removed]",
      "text/plain": [
       "<Figure size 360x360 with 1 Axes>"
      ]
     },
     "metadata": {},
     "output_type": "display_data"
    }
   ],
   "source": [
    "sns.set_theme(style=\"whitegrid\")\n",
    "sns.relplot(x=data[\"JOB_DEMAND\"],y=data[\"JOB_INSECURITY\"], data=data);"
   ]
  },
  {
   "cell_type": "markdown",
   "metadata": {},
   "source": [
    "# ML Model to predict Presenteeism"
   ]
  },
  {
   "cell_type": "code",
   "execution_count": 14,
   "metadata": {},
   "outputs": [
    {
     "data": {
      "text/html": [
       "<div>\n",
       "<style scoped>\n",
       "    .dataframe tbody tr th:only-of-type {\n",
       "        vertical-align: middle;\n",
       "    }\n",
       "\n",
       "    .dataframe tbody tr th {\n",
       "        vertical-align: top;\n",
       "    }\n",
       "\n",
       "    .dataframe thead th {\n",
       "        text-align: right;\n",
       "    }\n",
       "</style>\n",
       "<table border=\"1\" class=\"dataframe\">\n",
       "  <thead>\n",
       "    <tr style=\"text-align: right;\">\n",
       "      <th></th>\n",
       "      <th>Gender</th>\n",
       "      <th>Age_Group</th>\n",
       "      <th>Age</th>\n",
       "      <th>Marital_Status</th>\n",
       "      <th>Race</th>\n",
       "      <th>Religion</th>\n",
       "      <th>Tenure</th>\n",
       "      <th>Highest_Education</th>\n",
       "      <th>G1</th>\n",
       "      <th>G2</th>\n",
       "      <th>...</th>\n",
       "      <th>JobDemand_Workload</th>\n",
       "      <th>JobDemand_Emo</th>\n",
       "      <th>JobDemand_Cog</th>\n",
       "      <th>JOB_DEMAND</th>\n",
       "      <th>JobInsecurity_Imp</th>\n",
       "      <th>JobInsecurity_Prob</th>\n",
       "      <th>JOB_INSECURITY</th>\n",
       "      <th>Level_Presenteesim</th>\n",
       "      <th>Level_JobDemand</th>\n",
       "      <th>Level_JobInsecurity</th>\n",
       "    </tr>\n",
       "  </thead>\n",
       "  <tbody>\n",
       "    <tr>\n",
       "      <th>0</th>\n",
       "      <td>1</td>\n",
       "      <td>2</td>\n",
       "      <td>28</td>\n",
       "      <td>2</td>\n",
       "      <td>1</td>\n",
       "      <td>1</td>\n",
       "      <td>2</td>\n",
       "      <td>4</td>\n",
       "      <td>2</td>\n",
       "      <td>3</td>\n",
       "      <td>...</td>\n",
       "      <td>12</td>\n",
       "      <td>20</td>\n",
       "      <td>17</td>\n",
       "      <td>49</td>\n",
       "      <td>27</td>\n",
       "      <td>31</td>\n",
       "      <td>58</td>\n",
       "      <td>2</td>\n",
       "      <td>2</td>\n",
       "      <td>2</td>\n",
       "    </tr>\n",
       "    <tr>\n",
       "      <th>1</th>\n",
       "      <td>2</td>\n",
       "      <td>1</td>\n",
       "      <td>25</td>\n",
       "      <td>2</td>\n",
       "      <td>1</td>\n",
       "      <td>1</td>\n",
       "      <td>2</td>\n",
       "      <td>3</td>\n",
       "      <td>5</td>\n",
       "      <td>3</td>\n",
       "      <td>...</td>\n",
       "      <td>13</td>\n",
       "      <td>18</td>\n",
       "      <td>7</td>\n",
       "      <td>38</td>\n",
       "      <td>43</td>\n",
       "      <td>30</td>\n",
       "      <td>73</td>\n",
       "      <td>2</td>\n",
       "      <td>1</td>\n",
       "      <td>3</td>\n",
       "    </tr>\n",
       "    <tr>\n",
       "      <th>2</th>\n",
       "      <td>1</td>\n",
       "      <td>2</td>\n",
       "      <td>28</td>\n",
       "      <td>2</td>\n",
       "      <td>1</td>\n",
       "      <td>1</td>\n",
       "      <td>2</td>\n",
       "      <td>3</td>\n",
       "      <td>3</td>\n",
       "      <td>5</td>\n",
       "      <td>...</td>\n",
       "      <td>20</td>\n",
       "      <td>18</td>\n",
       "      <td>9</td>\n",
       "      <td>47</td>\n",
       "      <td>43</td>\n",
       "      <td>45</td>\n",
       "      <td>88</td>\n",
       "      <td>2</td>\n",
       "      <td>2</td>\n",
       "      <td>3</td>\n",
       "    </tr>\n",
       "    <tr>\n",
       "      <th>3</th>\n",
       "      <td>2</td>\n",
       "      <td>2</td>\n",
       "      <td>30</td>\n",
       "      <td>2</td>\n",
       "      <td>1</td>\n",
       "      <td>1</td>\n",
       "      <td>3</td>\n",
       "      <td>3</td>\n",
       "      <td>4</td>\n",
       "      <td>4</td>\n",
       "      <td>...</td>\n",
       "      <td>17</td>\n",
       "      <td>20</td>\n",
       "      <td>13</td>\n",
       "      <td>50</td>\n",
       "      <td>36</td>\n",
       "      <td>25</td>\n",
       "      <td>61</td>\n",
       "      <td>2</td>\n",
       "      <td>2</td>\n",
       "      <td>2</td>\n",
       "    </tr>\n",
       "    <tr>\n",
       "      <th>4</th>\n",
       "      <td>2</td>\n",
       "      <td>2</td>\n",
       "      <td>33</td>\n",
       "      <td>2</td>\n",
       "      <td>1</td>\n",
       "      <td>1</td>\n",
       "      <td>2</td>\n",
       "      <td>3</td>\n",
       "      <td>5</td>\n",
       "      <td>5</td>\n",
       "      <td>...</td>\n",
       "      <td>13</td>\n",
       "      <td>19</td>\n",
       "      <td>25</td>\n",
       "      <td>57</td>\n",
       "      <td>13</td>\n",
       "      <td>21</td>\n",
       "      <td>34</td>\n",
       "      <td>3</td>\n",
       "      <td>2</td>\n",
       "      <td>1</td>\n",
       "    </tr>\n",
       "  </tbody>\n",
       "</table>\n",
       "<p>5 rows × 64 columns</p>\n",
       "</div>"
      ],
      "text/plain": [
       "   Gender  Age_Group  Age  Marital_Status  Race  Religion  Tenure  \\\n",
       "0       1          2   28               2     1         1       2   \n",
       "1       2          1   25               2     1         1       2   \n",
       "2       1          2   28               2     1         1       2   \n",
       "3       2          2   30               2     1         1       3   \n",
       "4       2          2   33               2     1         1       2   \n",
       "\n",
       "   Highest_Education  G1  G2  ...  JobDemand_Workload  JobDemand_Emo  \\\n",
       "0                  4   2   3  ...                  12             20   \n",
       "1                  3   5   3  ...                  13             18   \n",
       "2                  3   3   5  ...                  20             18   \n",
       "3                  3   4   4  ...                  17             20   \n",
       "4                  3   5   5  ...                  13             19   \n",
       "\n",
       "   JobDemand_Cog  JOB_DEMAND  JobInsecurity_Imp  JobInsecurity_Prob  \\\n",
       "0             17          49                 27                  31   \n",
       "1              7          38                 43                  30   \n",
       "2              9          47                 43                  45   \n",
       "3             13          50                 36                  25   \n",
       "4             25          57                 13                  21   \n",
       "\n",
       "   JOB_INSECURITY  Level_Presenteesim  Level_JobDemand  Level_JobInsecurity  \n",
       "0              58                   2                2                    2  \n",
       "1              73                   2                1                    3  \n",
       "2              88                   2                2                    3  \n",
       "3              61                   2                2                    2  \n",
       "4              34                   3                2                    1  \n",
       "\n",
       "[5 rows x 64 columns]"
      ]
     },
     "execution_count": 14,
     "metadata": {},
     "output_type": "execute_result"
    }
   ],
   "source": [
    "data.head()"
   ]
  },
  {
   "cell_type": "code",
   "execution_count": 27,
   "metadata": {},
   "outputs": [],
   "source": [
    "from sklearn.linear_model import SGDClassifier\n",
    "from sklearn.model_selection import train_test_split\n",
    "y = data[\"Level_Presenteesim\"]\n",
    "X = data.drop(\"Level_Presenteesim\",axis=1)\n",
    "\n",
    "X_train,X_test,y_train,y_test = train_test_split(X, y, test_size=0.33)"
   ]
  },
  {
   "cell_type": "code",
   "execution_count": 28,
   "metadata": {},
   "outputs": [
    {
     "name": "stderr",
     "output_type": "stream",
     "text": [
      "C:\\Users\\saumy\\Anaconda3\\lib\\site-packages\\sklearn\\linear_model\\_stochastic_gradient.py:577: ConvergenceWarning: Maximum number of iteration reached before convergence. Consider increasing max_iter to improve the fit.\n",
      "  ConvergenceWarning)\n"
     ]
    }
   ],
   "source": [
    "model = SGDClassifier(loss=\"hinge\", penalty=\"l2\", max_iter=5)\n",
    "model.fit(X_train,y_train)\n",
    "pred = model.predict(X_test)"
   ]
  },
  {
   "cell_type": "code",
   "execution_count": 29,
   "metadata": {
    "scrolled": true
   },
   "outputs": [
    {
     "name": "stdout",
     "output_type": "stream",
     "text": [
      "[3 2 2 2 3 3 2 2 2 2 2 3 2 2 3 2 2 3 2 3 2 3 3 3 2 2 2 3 3 3 2 2 3 3 2 2 3\n",
      " 2 2 2 2 2 2 2 2 2 3 2 2 2 2 2 2 2 3 2 2 2 2 2 2 3 2 3 2 2 2 2 3 2 2 2 2 2\n",
      " 2 2 2 2 2 2 2 2 2 2 3 2 2 2 2 3 2 3 2 2 2 2 3 2 2 2 2 2 2 2 2 2 2 3 2 2 2\n",
      " 2 2 2 2]\n"
     ]
    }
   ],
   "source": [
    "print(pred)"
   ]
  },
  {
   "cell_type": "code",
   "execution_count": 30,
   "metadata": {},
   "outputs": [
    {
     "data": {
      "text/plain": [
       "0.808695652173913"
      ]
     },
     "execution_count": 30,
     "metadata": {},
     "output_type": "execute_result"
    }
   ],
   "source": [
    "#from sklearn.metrics import accuracy_score\n",
    "#accuracy_score(y_test, pred)"
   ]
  },
  {
   "cell_type": "code",
   "execution_count": 19,
   "metadata": {},
   "outputs": [],
   "source": [
    "#import pickle\n",
    "#filename = 'finalModel.sav'\n",
    "#pickle.dump(model, open(filename, 'wb'))"
   ]
  },
  {
   "cell_type": "code",
   "execution_count": 20,
   "metadata": {},
   "outputs": [
    {
     "name": "stdout",
     "output_type": "stream",
     "text": [
      "0.6956521739130435\n"
     ]
    }
   ],
   "source": [
    "# load the model from disk\n",
    "loaded_model = pickle.load(open(filename, 'rb'))\n",
    "result = loaded_model.score(X_test, y_test)\n",
    "print(result)"
   ]
  },
  {
   "cell_type": "markdown",
   "metadata": {},
   "source": [
    "# UI to use model"
   ]
  },
  {
   "cell_type": "code",
   "execution_count": 21,
   "metadata": {},
   "outputs": [
    {
     "name": "stderr",
     "output_type": "stream",
     "text": [
      "C:\\Users\\saumy\\Anaconda3\\lib\\site-packages\\IPython\\html.py:14: ShimWarning: The `IPython.html` package has been deprecated since IPython 4.0. You should import from `notebook` instead. `IPython.html.widgets` has moved to `ipywidgets`.\n",
      "  \"`IPython.html.widgets` has moved to `ipywidgets`.\", ShimWarning)\n"
     ]
    }
   ],
   "source": [
    "from ipywidgets import *\n",
    "from IPython.display import display\n",
    "from IPython.html import widgets"
   ]
  },
  {
   "cell_type": "code",
   "execution_count": 22,
   "metadata": {},
   "outputs": [
    {
     "name": "stdout",
     "output_type": "stream",
     "text": [
      "Enter Age Group\n"
     ]
    },
    {
     "data": {
      "application/vnd.jupyter.widget-view+json": {
       "model_id": "40be3f096e9d49ab84403d5ec969c6ed",
       "version_major": 2,
       "version_minor": 0
      },
      "text/plain": [
       "interactive(children=(IntSlider(value=1, description='x', max=3, min=1), Output()), _dom_classes=('widget-inte…"
      ]
     },
     "metadata": {},
     "output_type": "display_data"
    },
    {
     "name": "stdout",
     "output_type": "stream",
     "text": [
      "Enter Age Group\n"
     ]
    },
    {
     "data": {
      "application/vnd.jupyter.widget-view+json": {
       "model_id": "42996b473dc94cdcb1d7b310376d46de",
       "version_major": 2,
       "version_minor": 0
      },
      "text/plain": [
       "interactive(children=(IntSlider(value=1, description='x', max=3, min=1), Output()), _dom_classes=('widget-inte…"
      ]
     },
     "metadata": {},
     "output_type": "display_data"
    },
    {
     "name": "stdout",
     "output_type": "stream",
     "text": [
      "Enter Age Group\n"
     ]
    },
    {
     "data": {
      "application/vnd.jupyter.widget-view+json": {
       "model_id": "249fcff84a344eb2aa1d09e4638141d3",
       "version_major": 2,
       "version_minor": 0
      },
      "text/plain": [
       "interactive(children=(IntSlider(value=1, description='x', max=4, min=1), Output()), _dom_classes=('widget-inte…"
      ]
     },
     "metadata": {},
     "output_type": "display_data"
    }
   ],
   "source": [
    "def myfunc(x):\n",
    "    if (x==1):\n",
    "        return \"Low\"\n",
    "    elif (x==2):\n",
    "        return \"Medium\"\n",
    "    else:\n",
    "        return \"High\"\n",
    "print(\"Enter Age Group\")\n",
    "age = interact(myfunc,x=widgets.IntSlider(min=1,max=3,value=1))\n",
    "\n",
    "print(\"Enter Age Group\")\n",
    "marital = interact(myfunc,x=widgets.IntSlider(min=1,max=3,value=1))\n",
    "\n",
    "print(\"Enter Age Group\")\n",
    "race = interact(myfunc,x=widgets.IntSlider(min=1,max=4,value=1))"
   ]
  },
  {
   "cell_type": "code",
   "execution_count": 23,
   "metadata": {},
   "outputs": [
    {
     "name": "stdout",
     "output_type": "stream",
     "text": [
      "<function myfunc at 0x000001627839A158> <function myfunc at 0x000001627839A158>\n"
     ]
    }
   ],
   "source": [
    "print(age, race)"
   ]
  },
  {
   "cell_type": "markdown",
   "metadata": {},
   "source": [
    "# Simplified model"
   ]
  },
  {
   "cell_type": "code",
   "execution_count": 24,
   "metadata": {},
   "outputs": [],
   "source": [
    "import ipywidgets as widgets"
   ]
  },
  {
   "cell_type": "code",
   "execution_count": 25,
   "metadata": {
    "scrolled": false
   },
   "outputs": [
    {
     "data": {
      "text/html": [
       "<div>\n",
       "<style scoped>\n",
       "    .dataframe tbody tr th:only-of-type {\n",
       "        vertical-align: middle;\n",
       "    }\n",
       "\n",
       "    .dataframe tbody tr th {\n",
       "        vertical-align: top;\n",
       "    }\n",
       "\n",
       "    .dataframe thead th {\n",
       "        text-align: right;\n",
       "    }\n",
       "</style>\n",
       "<table border=\"1\" class=\"dataframe\">\n",
       "  <thead>\n",
       "    <tr style=\"text-align: right;\">\n",
       "      <th></th>\n",
       "      <th>Gender</th>\n",
       "      <th>Age_Group</th>\n",
       "      <th>Age</th>\n",
       "      <th>Marital_Status</th>\n",
       "      <th>Race</th>\n",
       "      <th>Religion</th>\n",
       "      <th>Tenure</th>\n",
       "      <th>Highest_Education</th>\n",
       "      <th>G1</th>\n",
       "      <th>G2</th>\n",
       "      <th>...</th>\n",
       "      <th>JobDemand_Workload</th>\n",
       "      <th>JobDemand_Emo</th>\n",
       "      <th>JobDemand_Cog</th>\n",
       "      <th>JOB_DEMAND</th>\n",
       "      <th>JobInsecurity_Imp</th>\n",
       "      <th>JobInsecurity_Prob</th>\n",
       "      <th>JOB_INSECURITY</th>\n",
       "      <th>Level_Presenteesim</th>\n",
       "      <th>Level_JobDemand</th>\n",
       "      <th>Level_JobInsecurity</th>\n",
       "    </tr>\n",
       "  </thead>\n",
       "  <tbody>\n",
       "    <tr>\n",
       "      <th>0</th>\n",
       "      <td>1</td>\n",
       "      <td>2</td>\n",
       "      <td>28</td>\n",
       "      <td>2</td>\n",
       "      <td>1</td>\n",
       "      <td>1</td>\n",
       "      <td>2</td>\n",
       "      <td>4</td>\n",
       "      <td>2</td>\n",
       "      <td>3</td>\n",
       "      <td>...</td>\n",
       "      <td>12</td>\n",
       "      <td>20</td>\n",
       "      <td>17</td>\n",
       "      <td>49</td>\n",
       "      <td>27</td>\n",
       "      <td>31</td>\n",
       "      <td>58</td>\n",
       "      <td>2</td>\n",
       "      <td>2</td>\n",
       "      <td>2</td>\n",
       "    </tr>\n",
       "    <tr>\n",
       "      <th>1</th>\n",
       "      <td>2</td>\n",
       "      <td>1</td>\n",
       "      <td>25</td>\n",
       "      <td>2</td>\n",
       "      <td>1</td>\n",
       "      <td>1</td>\n",
       "      <td>2</td>\n",
       "      <td>3</td>\n",
       "      <td>5</td>\n",
       "      <td>3</td>\n",
       "      <td>...</td>\n",
       "      <td>13</td>\n",
       "      <td>18</td>\n",
       "      <td>7</td>\n",
       "      <td>38</td>\n",
       "      <td>43</td>\n",
       "      <td>30</td>\n",
       "      <td>73</td>\n",
       "      <td>2</td>\n",
       "      <td>1</td>\n",
       "      <td>3</td>\n",
       "    </tr>\n",
       "    <tr>\n",
       "      <th>2</th>\n",
       "      <td>1</td>\n",
       "      <td>2</td>\n",
       "      <td>28</td>\n",
       "      <td>2</td>\n",
       "      <td>1</td>\n",
       "      <td>1</td>\n",
       "      <td>2</td>\n",
       "      <td>3</td>\n",
       "      <td>3</td>\n",
       "      <td>5</td>\n",
       "      <td>...</td>\n",
       "      <td>20</td>\n",
       "      <td>18</td>\n",
       "      <td>9</td>\n",
       "      <td>47</td>\n",
       "      <td>43</td>\n",
       "      <td>45</td>\n",
       "      <td>88</td>\n",
       "      <td>2</td>\n",
       "      <td>2</td>\n",
       "      <td>3</td>\n",
       "    </tr>\n",
       "    <tr>\n",
       "      <th>3</th>\n",
       "      <td>2</td>\n",
       "      <td>2</td>\n",
       "      <td>30</td>\n",
       "      <td>2</td>\n",
       "      <td>1</td>\n",
       "      <td>1</td>\n",
       "      <td>3</td>\n",
       "      <td>3</td>\n",
       "      <td>4</td>\n",
       "      <td>4</td>\n",
       "      <td>...</td>\n",
       "      <td>17</td>\n",
       "      <td>20</td>\n",
       "      <td>13</td>\n",
       "      <td>50</td>\n",
       "      <td>36</td>\n",
       "      <td>25</td>\n",
       "      <td>61</td>\n",
       "      <td>2</td>\n",
       "      <td>2</td>\n",
       "      <td>2</td>\n",
       "    </tr>\n",
       "    <tr>\n",
       "      <th>4</th>\n",
       "      <td>2</td>\n",
       "      <td>2</td>\n",
       "      <td>33</td>\n",
       "      <td>2</td>\n",
       "      <td>1</td>\n",
       "      <td>1</td>\n",
       "      <td>2</td>\n",
       "      <td>3</td>\n",
       "      <td>5</td>\n",
       "      <td>5</td>\n",
       "      <td>...</td>\n",
       "      <td>13</td>\n",
       "      <td>19</td>\n",
       "      <td>25</td>\n",
       "      <td>57</td>\n",
       "      <td>13</td>\n",
       "      <td>21</td>\n",
       "      <td>34</td>\n",
       "      <td>3</td>\n",
       "      <td>2</td>\n",
       "      <td>1</td>\n",
       "    </tr>\n",
       "  </tbody>\n",
       "</table>\n",
       "<p>5 rows × 64 columns</p>\n",
       "</div>"
      ],
      "text/plain": [
       "   Gender  Age_Group  Age  Marital_Status  Race  Religion  Tenure  \\\n",
       "0       1          2   28               2     1         1       2   \n",
       "1       2          1   25               2     1         1       2   \n",
       "2       1          2   28               2     1         1       2   \n",
       "3       2          2   30               2     1         1       3   \n",
       "4       2          2   33               2     1         1       2   \n",
       "\n",
       "   Highest_Education  G1  G2  ...  JobDemand_Workload  JobDemand_Emo  \\\n",
       "0                  4   2   3  ...                  12             20   \n",
       "1                  3   5   3  ...                  13             18   \n",
       "2                  3   3   5  ...                  20             18   \n",
       "3                  3   4   4  ...                  17             20   \n",
       "4                  3   5   5  ...                  13             19   \n",
       "\n",
       "   JobDemand_Cog  JOB_DEMAND  JobInsecurity_Imp  JobInsecurity_Prob  \\\n",
       "0             17          49                 27                  31   \n",
       "1              7          38                 43                  30   \n",
       "2              9          47                 43                  45   \n",
       "3             13          50                 36                  25   \n",
       "4             25          57                 13                  21   \n",
       "\n",
       "   JOB_INSECURITY  Level_Presenteesim  Level_JobDemand  Level_JobInsecurity  \n",
       "0              58                   2                2                    2  \n",
       "1              73                   2                1                    3  \n",
       "2              88                   2                2                    3  \n",
       "3              61                   2                2                    2  \n",
       "4              34                   3                2                    1  \n",
       "\n",
       "[5 rows x 64 columns]"
      ]
     },
     "execution_count": 25,
     "metadata": {},
     "output_type": "execute_result"
    }
   ],
   "source": [
    "data.head()"
   ]
  },
  {
   "cell_type": "code",
   "execution_count": 26,
   "metadata": {},
   "outputs": [
    {
     "data": {
      "application/vnd.jupyter.widget-view+json": {
       "model_id": "3bb4ca20e2e24d428a6edd1e0506beeb",
       "version_major": 2,
       "version_minor": 0
      },
      "text/plain": [
       "IntSlider(value=2, description='Job Demand', max=3, min=1)"
      ]
     },
     "metadata": {},
     "output_type": "display_data"
    },
    {
     "data": {
      "application/vnd.jupyter.widget-view+json": {
       "model_id": "67cee9a9aee94915ac44d5e8f218a2a1",
       "version_major": 2,
       "version_minor": 0
      },
      "text/plain": [
       "IntSlider(value=2, description='Job Security', max=3, min=1)"
      ]
     },
     "metadata": {},
     "output_type": "display_data"
    },
    {
     "data": {
      "application/vnd.jupyter.widget-view+json": {
       "model_id": "0f4f90ab2b794d0dac1e4947b8478989",
       "version_major": 2,
       "version_minor": 0
      },
      "text/plain": [
       "IntSlider(value=2, description='Gender', max=3, min=1)"
      ]
     },
     "metadata": {},
     "output_type": "display_data"
    },
    {
     "data": {
      "application/vnd.jupyter.widget-view+json": {
       "model_id": "ca86b53119ad4e0abc5518a6e32f460c",
       "version_major": 2,
       "version_minor": 0
      },
      "text/plain": [
       "IntSlider(value=20, description='Age', min=15)"
      ]
     },
     "metadata": {},
     "output_type": "display_data"
    },
    {
     "data": {
      "application/vnd.jupyter.widget-view+json": {
       "model_id": "e6729c769549487caad848eb72f9f684",
       "version_major": 2,
       "version_minor": 0
      },
      "text/plain": [
       "IntSlider(value=2, description='Race', max=4, min=1)"
      ]
     },
     "metadata": {},
     "output_type": "display_data"
    },
    {
     "data": {
      "application/vnd.jupyter.widget-view+json": {
       "model_id": "b7a28d3be15048d3a25c10e5d8cc53fe",
       "version_major": 2,
       "version_minor": 0
      },
      "text/plain": [
       "IntSlider(value=2, description='Religion', max=3, min=1)"
      ]
     },
     "metadata": {},
     "output_type": "display_data"
    }
   ],
   "source": [
    "slider1 = widgets.IntSlider(\n",
    " value=2, # default value\n",
    " min=1, # min value\n",
    " max=3, # max value\n",
    " step=1, # incriment size\n",
    " description='Job Demand'\n",
    ")\n",
    "\n",
    "slider2 = widgets.IntSlider(\n",
    " value=2, # default value\n",
    " min=1, # min value\n",
    " max=3, # max value\n",
    " step=1, # incriment size\n",
    " description='Job Security'\n",
    ")\n",
    "\n",
    "slider3 = widgets.IntSlider(\n",
    " value=2, # default value\n",
    " min=1, # min value\n",
    " max=3, # max value\n",
    " step=1, # incriment size\n",
    " description='Gender'\n",
    ")\n",
    "\n",
    "slider4 = widgets.IntSlider(\n",
    " value=20, # default value\n",
    " min=15, # min value\n",
    " max=100, # max value\n",
    " step=1, # incriment size\n",
    " description='Age'\n",
    ")\n",
    "\n",
    "slider5 = widgets.IntSlider(\n",
    " value=2, # default value\n",
    " min=1, # min value\n",
    " max=4, # max value\n",
    " step=1, # incriment size\n",
    " description='Race'\n",
    ")\n",
    "\n",
    "slider6 = widgets.IntSlider(\n",
    " value=2, # default value\n",
    " min=1, # min value\n",
    " max=3, # max value\n",
    " step=1, # incriment size\n",
    " description='Religion'\n",
    ")\n",
    "\n",
    "display(slider1)\n",
    "display(slider2)\n",
    "display(slider3)\n",
    "display(slider4)\n",
    "display(slider5)\n",
    "display(slider6)"
   ]
  },
  {
   "cell_type": "code",
   "execution_count": 31,
   "metadata": {
    "scrolled": false
   },
   "outputs": [
    {
     "name": "stdout",
     "output_type": "stream",
     "text": [
      "     Gender  Age_Group       Age  Marital_Status      Race  Religion  \\\n",
      "0  1.723343    1.84438  29.67147        1.737752  1.167147  1.178674   \n",
      "\n",
      "     Tenure  Highest_Education        G1        G2  ...  JobDemand_Workload  \\\n",
      "0  2.170029           3.195965  3.933718  3.775216  ...           14.887608   \n",
      "\n",
      "   JobDemand_Emo  JobDemand_Cog  JOB_DEMAND  JobInsecurity_Imp  \\\n",
      "0       18.59366      15.086455   48.567723          33.757925   \n",
      "\n",
      "   JobInsecurity_Prob  JOB_INSECURITY  Level_Presenteesim  Level_JobDemand  \\\n",
      "0           26.487032       60.244957            2.314121         2.002882   \n",
      "\n",
      "   Level_JobInsecurity  \n",
      "0             2.178674  \n",
      "\n",
      "[1 rows x 64 columns]\n"
     ]
    }
   ],
   "source": [
    "def colMean(i):\n",
    "    return data[i].mean()\n",
    "row = []\n",
    "cols = data.columns\n",
    "for i in cols:\n",
    "    row.append(colMean(i))\n",
    "row = pd.DataFrame(row,data.columns).T\n",
    "print(pd.DataFrame(row))"
   ]
  },
  {
   "cell_type": "code",
   "execution_count": 32,
   "metadata": {},
   "outputs": [
    {
     "data": {
      "text/html": [
       "<div>\n",
       "<style scoped>\n",
       "    .dataframe tbody tr th:only-of-type {\n",
       "        vertical-align: middle;\n",
       "    }\n",
       "\n",
       "    .dataframe tbody tr th {\n",
       "        vertical-align: top;\n",
       "    }\n",
       "\n",
       "    .dataframe thead th {\n",
       "        text-align: right;\n",
       "    }\n",
       "</style>\n",
       "<table border=\"1\" class=\"dataframe\">\n",
       "  <thead>\n",
       "    <tr style=\"text-align: right;\">\n",
       "      <th></th>\n",
       "      <th>Gender</th>\n",
       "      <th>Age_Group</th>\n",
       "      <th>Age</th>\n",
       "      <th>Marital_Status</th>\n",
       "      <th>Race</th>\n",
       "      <th>Religion</th>\n",
       "      <th>Tenure</th>\n",
       "      <th>Highest_Education</th>\n",
       "      <th>G1</th>\n",
       "      <th>G2</th>\n",
       "      <th>...</th>\n",
       "      <th>JobDemand_Workload</th>\n",
       "      <th>JobDemand_Emo</th>\n",
       "      <th>JobDemand_Cog</th>\n",
       "      <th>JOB_DEMAND</th>\n",
       "      <th>JobInsecurity_Imp</th>\n",
       "      <th>JobInsecurity_Prob</th>\n",
       "      <th>JOB_INSECURITY</th>\n",
       "      <th>Level_Presenteesim</th>\n",
       "      <th>Level_JobDemand</th>\n",
       "      <th>Level_JobInsecurity</th>\n",
       "    </tr>\n",
       "  </thead>\n",
       "  <tbody>\n",
       "    <tr>\n",
       "      <th>0</th>\n",
       "      <td>1.723343</td>\n",
       "      <td>1.84438</td>\n",
       "      <td>29.67147</td>\n",
       "      <td>1.737752</td>\n",
       "      <td>1.167147</td>\n",
       "      <td>1.178674</td>\n",
       "      <td>2.170029</td>\n",
       "      <td>3.195965</td>\n",
       "      <td>3.933718</td>\n",
       "      <td>3.775216</td>\n",
       "      <td>...</td>\n",
       "      <td>14.887608</td>\n",
       "      <td>18.59366</td>\n",
       "      <td>15.086455</td>\n",
       "      <td>48.567723</td>\n",
       "      <td>33.757925</td>\n",
       "      <td>26.487032</td>\n",
       "      <td>60.244957</td>\n",
       "      <td>2.314121</td>\n",
       "      <td>2.002882</td>\n",
       "      <td>2.178674</td>\n",
       "    </tr>\n",
       "  </tbody>\n",
       "</table>\n",
       "<p>1 rows × 64 columns</p>\n",
       "</div>"
      ],
      "text/plain": [
       "     Gender  Age_Group       Age  Marital_Status      Race  Religion  \\\n",
       "0  1.723343    1.84438  29.67147        1.737752  1.167147  1.178674   \n",
       "\n",
       "     Tenure  Highest_Education        G1        G2  ...  JobDemand_Workload  \\\n",
       "0  2.170029           3.195965  3.933718  3.775216  ...           14.887608   \n",
       "\n",
       "   JobDemand_Emo  JobDemand_Cog  JOB_DEMAND  JobInsecurity_Imp  \\\n",
       "0       18.59366      15.086455   48.567723          33.757925   \n",
       "\n",
       "   JobInsecurity_Prob  JOB_INSECURITY  Level_Presenteesim  Level_JobDemand  \\\n",
       "0           26.487032       60.244957            2.314121         2.002882   \n",
       "\n",
       "   Level_JobInsecurity  \n",
       "0             2.178674  \n",
       "\n",
       "[1 rows x 64 columns]"
      ]
     },
     "execution_count": 32,
     "metadata": {},
     "output_type": "execute_result"
    }
   ],
   "source": [
    "row"
   ]
  },
  {
   "cell_type": "code",
   "execution_count": 33,
   "metadata": {},
   "outputs": [],
   "source": [
    "row = row.drop(\"Level_Presenteesim\",axis=1)\n",
    "row.loc[0,\"Level_JobDemand\"] = slider1.value\n",
    "row.loc[0,\"Level_JobInsecurity\"] = slider2.value\n",
    "row.loc[0,\"Gender\"] = slider3.value\n",
    "row.loc[0,\"Age\"] = slider4.value\n",
    "row.loc[0,\"Race\"] = slider5.value\n",
    "row.loc[0,\"Religion\"] = slider6.value"
   ]
  },
  {
   "cell_type": "code",
   "execution_count": 34,
   "metadata": {
    "scrolled": true
   },
   "outputs": [
    {
     "data": {
      "text/html": [
       "<div>\n",
       "<style scoped>\n",
       "    .dataframe tbody tr th:only-of-type {\n",
       "        vertical-align: middle;\n",
       "    }\n",
       "\n",
       "    .dataframe tbody tr th {\n",
       "        vertical-align: top;\n",
       "    }\n",
       "\n",
       "    .dataframe thead th {\n",
       "        text-align: right;\n",
       "    }\n",
       "</style>\n",
       "<table border=\"1\" class=\"dataframe\">\n",
       "  <thead>\n",
       "    <tr style=\"text-align: right;\">\n",
       "      <th></th>\n",
       "      <th>Gender</th>\n",
       "      <th>Age_Group</th>\n",
       "      <th>Age</th>\n",
       "      <th>Marital_Status</th>\n",
       "      <th>Race</th>\n",
       "      <th>Religion</th>\n",
       "      <th>Tenure</th>\n",
       "      <th>Highest_Education</th>\n",
       "      <th>G1</th>\n",
       "      <th>G2</th>\n",
       "      <th>...</th>\n",
       "      <th>PRESENTEEISM</th>\n",
       "      <th>JobDemand_Workload</th>\n",
       "      <th>JobDemand_Emo</th>\n",
       "      <th>JobDemand_Cog</th>\n",
       "      <th>JOB_DEMAND</th>\n",
       "      <th>JobInsecurity_Imp</th>\n",
       "      <th>JobInsecurity_Prob</th>\n",
       "      <th>JOB_INSECURITY</th>\n",
       "      <th>Level_JobDemand</th>\n",
       "      <th>Level_JobInsecurity</th>\n",
       "    </tr>\n",
       "  </thead>\n",
       "  <tbody>\n",
       "    <tr>\n",
       "      <th>0</th>\n",
       "      <td>2.0</td>\n",
       "      <td>1.84438</td>\n",
       "      <td>20.0</td>\n",
       "      <td>1.737752</td>\n",
       "      <td>2.0</td>\n",
       "      <td>2.0</td>\n",
       "      <td>2.170029</td>\n",
       "      <td>3.195965</td>\n",
       "      <td>3.933718</td>\n",
       "      <td>3.775216</td>\n",
       "      <td>...</td>\n",
       "      <td>21.899135</td>\n",
       "      <td>14.887608</td>\n",
       "      <td>18.59366</td>\n",
       "      <td>15.086455</td>\n",
       "      <td>48.567723</td>\n",
       "      <td>33.757925</td>\n",
       "      <td>26.487032</td>\n",
       "      <td>60.244957</td>\n",
       "      <td>2.0</td>\n",
       "      <td>2.0</td>\n",
       "    </tr>\n",
       "  </tbody>\n",
       "</table>\n",
       "<p>1 rows × 63 columns</p>\n",
       "</div>"
      ],
      "text/plain": [
       "   Gender  Age_Group   Age  Marital_Status  Race  Religion    Tenure  \\\n",
       "0     2.0    1.84438  20.0        1.737752   2.0       2.0  2.170029   \n",
       "\n",
       "   Highest_Education        G1        G2  ...  PRESENTEEISM  \\\n",
       "0           3.195965  3.933718  3.775216  ...     21.899135   \n",
       "\n",
       "   JobDemand_Workload  JobDemand_Emo  JobDemand_Cog  JOB_DEMAND  \\\n",
       "0           14.887608       18.59366      15.086455   48.567723   \n",
       "\n",
       "   JobInsecurity_Imp  JobInsecurity_Prob  JOB_INSECURITY  Level_JobDemand  \\\n",
       "0          33.757925           26.487032       60.244957              2.0   \n",
       "\n",
       "   Level_JobInsecurity  \n",
       "0                  2.0  \n",
       "\n",
       "[1 rows x 63 columns]"
      ]
     },
     "execution_count": 34,
     "metadata": {},
     "output_type": "execute_result"
    }
   ],
   "source": [
    "row"
   ]
  },
  {
   "cell_type": "code",
   "execution_count": 35,
   "metadata": {},
   "outputs": [
    {
     "data": {
      "text/plain": [
       "(1, 63)"
      ]
     },
     "execution_count": 35,
     "metadata": {},
     "output_type": "execute_result"
    }
   ],
   "source": [
    "row.shape"
   ]
  },
  {
   "cell_type": "code",
   "execution_count": 36,
   "metadata": {},
   "outputs": [
    {
     "data": {
      "text/plain": [
       "2"
      ]
     },
     "execution_count": 36,
     "metadata": {},
     "output_type": "execute_result"
    }
   ],
   "source": [
    "saved_model = pickle.dumps(model)\n",
    "svModel = pickle.loads(saved_model)\n",
    "\n",
    "# Final Prediction\n",
    "svModel.predict(row)[0]"
   ]
  },
  {
   "cell_type": "markdown",
   "metadata": {},
   "source": [
    "# More Plots"
   ]
  },
  {
   "cell_type": "code",
   "execution_count": 37,
   "metadata": {},
   "outputs": [],
   "source": [
    "import matplotlib.font_manager\n",
    "%matplotlib inline\n",
    "color_palette_list = ['#009ACD', '#ADD8E6', '#63D1F4', '#0EBFE9', '#C1F0F6', '#0099CC']"
   ]
  },
  {
   "cell_type": "code",
   "execution_count": 85,
   "metadata": {},
   "outputs": [
    {
     "data": {
      "text/plain": [
       "<matplotlib.legend.Legend at 0x16207ecf5c0>"
      ]
     },
     "execution_count": 85,
     "metadata": {},
     "output_type": "execute_result"
    },
    {
     "data": {
      "image/png": "[encoded data removed]",
      "text/plain": [
       "<Figure size 432x288 with 1 Axes>"
      ]
     },
     "metadata": {},
     "output_type": "display_data"
    }
   ],
   "source": [
    "# Gender\n",
    "\n",
    "fig, ax = plt.subplots()\n",
    "plt.rcParams['font.sans-serif'] = 'Arial'\n",
    "plt.rcParams['font.family'] = 'sans-serif'\n",
    "plt.rcParams['text.color'] = '#909090'\n",
    "plt.rcParams['axes.labelcolor']= '#909090'\n",
    "plt.rcParams['xtick.color'] = '#909090'\n",
    "plt.rcParams['ytick.color'] = '#909090'\n",
    "plt.rcParams['font.size']=12\n",
    "labels = ['Male','Female']\n",
    "percentages = [96, 251]\n",
    "explode=(0.1,0)\n",
    "ax.pie(percentages, explode=explode, labels=labels,  \n",
    "       colors=color_palette_list[0:2], autopct='%1.0f%%', \n",
    "       shadow=False, startangle=0,   \n",
    "       pctdistance=1.2,labeldistance=1.4)\n",
    "ax.axis('equal')\n",
    "ax.set_title(\"Gender Make-up of survey\")\n",
    "ax.legend(frameon=False, bbox_to_anchor=(1.5,0.8))"
   ]
  },
  {
   "cell_type": "code",
   "execution_count": 86,
   "metadata": {},
   "outputs": [],
   "source": [
    "fig.savefig('plots/gender.png',dpi=350)"
   ]
  },
  {
   "cell_type": "code",
   "execution_count": 40,
   "metadata": {
    "scrolled": true
   },
   "outputs": [
    {
     "data": {
      "text/plain": [
       "<matplotlib.legend.Legend at 0x1627886c240>"
      ]
     },
     "execution_count": 40,
     "metadata": {},
     "output_type": "execute_result"
    },
    {
     "data": {
      "image/png": "[encoded data removed]",
      "text/plain": [
       "<Figure size 432x288 with 1 Axes>"
      ]
     },
     "metadata": {},
     "output_type": "display_data"
    }
   ],
   "source": [
    "# Race\n",
    "\n",
    "fig, ax = plt.subplots()\n",
    "plt.rcParams['font.sans-serif'] = 'Arial'\n",
    "plt.rcParams['font.family'] = 'sans-serif'\n",
    "plt.rcParams['text.color'] = '#909090'\n",
    "plt.rcParams['axes.labelcolor']= '#909090'\n",
    "plt.rcParams['xtick.color'] = '#909090'\n",
    "plt.rcParams['ytick.color'] = '#909090'\n",
    "plt.rcParams['font.size']=12\n",
    "labels = ['Malay','Chineese','Indian','Others']\n",
    "percentages = [314,16,9,8]\n",
    "#explode=(0.1,0)\n",
    "ax.pie(percentages, labels=labels,  \n",
    "       colors=color_palette_list[0:4], autopct='%1.0f%%', \n",
    "       shadow=False, startangle=0,   \n",
    "       pctdistance=1.2,labeldistance=1.4)\n",
    "ax.axis('equal')\n",
    "ax.set_title(\"Racial Make-up of survey\")\n",
    "ax.legend(frameon=False, bbox_to_anchor=(1.5,0.8))"
   ]
  },
  {
   "cell_type": "code",
   "execution_count": 41,
   "metadata": {},
   "outputs": [],
   "source": [
    "fig.savefig('plots/race.png',dpi=350)"
   ]
  },
  {
   "cell_type": "code",
   "execution_count": 80,
   "metadata": {
    "scrolled": true
   },
   "outputs": [
    {
     "data": {
      "text/plain": [
       "Text(0.5, 0, 'Age')"
      ]
     },
     "execution_count": 80,
     "metadata": {},
     "output_type": "execute_result"
    },
    {
     "data": {
      "image/png": "[encoded data removed]",
      "text/plain": [
       "<Figure size 864x432 with 1 Axes>"
      ]
     },
     "metadata": {
      "needs_background": "dark"
     },
     "output_type": "display_data"
    }
   ],
   "source": [
    "ad = data['Age'].value_counts().rename_axis('Unique Values').reset_index(name='Age')\n",
    "fig, ax = plt.subplots(figsize = (12,6))\n",
    "plt.rcParams['font.sans-serif'] = 'Arial'\n",
    "plt.rcParams['font.family'] = 'sans-serif'\n",
    "plt.rcParams['text.color'] = '#909090'\n",
    "plt.rcParams['axes.labelcolor']= '#909090'\n",
    "plt.rcParams['xtick.color'] = '#909090'\n",
    "plt.rcParams['ytick.color'] = '#909090'\n",
    "plt.rcParams['font.size']=15\n",
    "#ind = np.arange(len(df['Question']))\n",
    "\n",
    "sns.barplot(x= ad['Unique Values'], y =ad[\"Age\"],  \n",
    "            data = data, palette=color_palette_list, \n",
    "            label=\"Age distribution of people in survey\", \n",
    "            ax=ax, ci=None)\n",
    "ax.set_title(\"Age distribution of people in survey\")\n",
    "ax.set_ylabel(\"Number of Respondents\")\n",
    "ax.set_ylim(0,55)\n",
    "ax.set_xlabel(\"Age\")"
   ]
  },
  {
   "cell_type": "code",
   "execution_count": 83,
   "metadata": {},
   "outputs": [],
   "source": [
    "fig.savefig('plots/age.png',dpi=350)"
   ]
  },
  {
   "cell_type": "code",
   "execution_count": 44,
   "metadata": {},
   "outputs": [
    {
     "data": {
      "text/plain": [
       "<matplotlib.legend.Legend at 0x16278d1d3c8>"
      ]
     },
     "execution_count": 44,
     "metadata": {},
     "output_type": "execute_result"
    },
    {
     "data": {
      "image/png": "[encoded data removed]",
      "text/plain": [
       "<Figure size 432x288 with 1 Axes>"
      ]
     },
     "metadata": {},
     "output_type": "display_data"
    }
   ],
   "source": [
    "# Marital_Status\n",
    "\n",
    "fig, ax = plt.subplots()\n",
    "plt.rcParams['font.sans-serif'] = 'Arial'\n",
    "plt.rcParams['font.family'] = 'sans-serif'\n",
    "plt.rcParams['text.color'] = '#909090'\n",
    "plt.rcParams['axes.labelcolor']= '#909090'\n",
    "plt.rcParams['xtick.color'] = '#909090'\n",
    "plt.rcParams['ytick.color'] = '#909090'\n",
    "plt.rcParams['font.size']=12\n",
    "labels = ['Single','Married','Divorced']\n",
    "percentages = [97, 244, 6]\n",
    "\n",
    "ax.pie(percentages, labels=labels,  \n",
    "       colors=color_palette_list[0:3], autopct='%1.0f%%', \n",
    "       shadow=False, startangle=0,   \n",
    "       pctdistance=1.2,labeldistance=1.4)\n",
    "ax.axis('equal')\n",
    "ax.set_title(\"Marital Status of Respondents\")\n",
    "ax.legend(frameon=False, bbox_to_anchor=(1.5,0.8))"
   ]
  },
  {
   "cell_type": "code",
   "execution_count": 45,
   "metadata": {},
   "outputs": [],
   "source": [
    "fig.savefig('plots/marital.png',dpi=350)"
   ]
  },
  {
   "cell_type": "code",
   "execution_count": 46,
   "metadata": {},
   "outputs": [
    {
     "data": {
      "text/plain": [
       "<matplotlib.legend.Legend at 0x16278d79240>"
      ]
     },
     "execution_count": 46,
     "metadata": {},
     "output_type": "execute_result"
    },
    {
     "data": {
      "image/png": "[encoded data removed]",
      "text/plain": [
       "<Figure size 432x288 with 1 Axes>"
      ]
     },
     "metadata": {},
     "output_type": "display_data"
    }
   ],
   "source": [
    "# Religion\n",
    "\n",
    "fig, ax = plt.subplots()\n",
    "plt.rcParams['font.sans-serif'] = 'Arial'\n",
    "plt.rcParams['font.family'] = 'sans-serif'\n",
    "plt.rcParams['text.color'] = '#909090'\n",
    "plt.rcParams['axes.labelcolor']= '#909090'\n",
    "plt.rcParams['xtick.color'] = '#909090'\n",
    "plt.rcParams['ytick.color'] = '#909090'\n",
    "plt.rcParams['font.size']=12\n",
    "labels = ['Muslim','Buddhist','Christian','Hindu','Others']\n",
    "percentages = [317, 13, 8, 8,1]\n",
    "\n",
    "ax.pie(percentages, labels=labels,  \n",
    "       colors=color_palette_list[0:5], autopct='%1.0f%%', \n",
    "       shadow=False, startangle=0,   \n",
    "       pctdistance=1.2,labeldistance=1.4)\n",
    "ax.axis('equal')\n",
    "ax.set_title(\"Religion of Respondents\")\n",
    "ax.legend(frameon=False, bbox_to_anchor=(1.5,0.8))"
   ]
  },
  {
   "cell_type": "code",
   "execution_count": 47,
   "metadata": {},
   "outputs": [],
   "source": [
    "fig.savefig('plots/religion.png',dpi=350)"
   ]
  },
  {
   "cell_type": "code",
   "execution_count": 87,
   "metadata": {},
   "outputs": [
    {
     "data": {
      "text/plain": [
       "<matplotlib.legend.Legend at 0x1627b919ba8>"
      ]
     },
     "execution_count": 87,
     "metadata": {},
     "output_type": "execute_result"
    },
    {
     "data": {
      "image/png": "[encoded data removed]",
      "text/plain": [
       "<Figure size 432x288 with 1 Axes>"
      ]
     },
     "metadata": {},
     "output_type": "display_data"
    }
   ],
   "source": [
    "# Education\n",
    "\n",
    "fig, ax = plt.subplots()\n",
    "plt.rcParams['font.sans-serif'] = 'Arial'\n",
    "plt.rcParams['font.family'] = 'sans-serif'\n",
    "plt.rcParams['text.color'] = '#909090'\n",
    "plt.rcParams['axes.labelcolor']= '#909090'\n",
    "plt.rcParams['xtick.color'] = '#909090'\n",
    "plt.rcParams['ytick.color'] = '#909090'\n",
    "plt.rcParams['font.size']=12\n",
    "labels = ['Degree','Masters','PhD']\n",
    "percentages = [279, 67, 1]\n",
    "\n",
    "ax.pie(percentages, labels=labels,  \n",
    "       colors=color_palette_list[0:3], autopct='%1.0f%%', \n",
    "       shadow=False, startangle=0,   \n",
    "       pctdistance=1.2,labeldistance=1.4)\n",
    "ax.axis('equal')\n",
    "ax.set_title(\"Educational background of Respondents\")\n",
    "ax.legend(frameon=False, bbox_to_anchor=(1.5,0.8))"
   ]
  },
  {
   "cell_type": "code",
   "execution_count": 88,
   "metadata": {},
   "outputs": [],
   "source": [
    "fig.savefig('plots/education.png',dpi=350)"
   ]
  },
  {
   "cell_type": "code",
   "execution_count": 50,
   "metadata": {},
   "outputs": [
    {
     "ename": "KeyError",
     "evalue": "'Level_Presenteeism'",
     "output_type": "error",
     "traceback": [
      "\u001b[1;31m---------------------------------------------------------------------------\u001b[0m",
      "\u001b[1;31mKeyError\u001b[0m                                  Traceback (most recent call last)",
      "\u001b[1;32m~\\Anaconda3\\lib\\site-packages\\pandas\\core\\indexes\\base.py\u001b[0m in \u001b[0;36mget_loc\u001b[1;34m(self, key, method, tolerance)\u001b[0m\n\u001b[0;32m   3079\u001b[0m             \u001b[1;32mtry\u001b[0m\u001b[1;33m:\u001b[0m\u001b[1;33m\u001b[0m\u001b[1;33m\u001b[0m\u001b[0m\n\u001b[1;32m-> 3080\u001b[1;33m                 \u001b[1;32mreturn\u001b[0m \u001b[0mself\u001b[0m\u001b[1;33m.\u001b[0m\u001b[0m_engine\u001b[0m\u001b[1;33m.\u001b[0m\u001b[0mget_loc\u001b[0m\u001b[1;33m(\u001b[0m\u001b[0mcasted_key\u001b[0m\u001b[1;33m)\u001b[0m\u001b[1;33m\u001b[0m\u001b[1;33m\u001b[0m\u001b[0m\n\u001b[0m\u001b[0;32m   3081\u001b[0m             \u001b[1;32mexcept\u001b[0m \u001b[0mKeyError\u001b[0m \u001b[1;32mas\u001b[0m \u001b[0merr\u001b[0m\u001b[1;33m:\u001b[0m\u001b[1;33m\u001b[0m\u001b[1;33m\u001b[0m\u001b[0m\n",
      "\u001b[1;32mpandas\\_libs\\index.pyx\u001b[0m in \u001b[0;36mpandas._libs.index.IndexEngine.get_loc\u001b[1;34m()\u001b[0m\n",
      "\u001b[1;32mpandas\\_libs\\index.pyx\u001b[0m in \u001b[0;36mpandas._libs.index.IndexEngine.get_loc\u001b[1;34m()\u001b[0m\n",
      "\u001b[1;32mpandas\\_libs\\hashtable_class_helper.pxi\u001b[0m in \u001b[0;36mpandas._libs.hashtable.PyObjectHashTable.get_item\u001b[1;34m()\u001b[0m\n",
      "\u001b[1;32mpandas\\_libs\\hashtable_class_helper.pxi\u001b[0m in \u001b[0;36mpandas._libs.hashtable.PyObjectHashTable.get_item\u001b[1;34m()\u001b[0m\n",
      "\u001b[1;31mKeyError\u001b[0m: 'Level_Presenteeism'",
      "\nThe above exception was the direct cause of the following exception:\n",
      "\u001b[1;31mKeyError\u001b[0m                                  Traceback (most recent call last)",
      "\u001b[1;32m<ipython-input-50-fc86e5647339>\u001b[0m in \u001b[0;36m<module>\u001b[1;34m\u001b[0m\n\u001b[1;32m----> 1\u001b[1;33m \u001b[0mdata\u001b[0m\u001b[1;33m[\u001b[0m\u001b[1;34m\"Level_Presenteeism\"\u001b[0m\u001b[1;33m]\u001b[0m\u001b[1;33m.\u001b[0m\u001b[0mhead\u001b[0m\u001b[1;33m(\u001b[0m\u001b[1;33m)\u001b[0m\u001b[1;33m\u001b[0m\u001b[1;33m\u001b[0m\u001b[0m\n\u001b[0m",
      "\u001b[1;32m~\\Anaconda3\\lib\\site-packages\\pandas\\core\\frame.py\u001b[0m in \u001b[0;36m__getitem__\u001b[1;34m(self, key)\u001b[0m\n\u001b[0;32m   3022\u001b[0m             \u001b[1;32mif\u001b[0m \u001b[0mself\u001b[0m\u001b[1;33m.\u001b[0m\u001b[0mcolumns\u001b[0m\u001b[1;33m.\u001b[0m\u001b[0mnlevels\u001b[0m \u001b[1;33m>\u001b[0m \u001b[1;36m1\u001b[0m\u001b[1;33m:\u001b[0m\u001b[1;33m\u001b[0m\u001b[1;33m\u001b[0m\u001b[0m\n\u001b[0;32m   3023\u001b[0m                 \u001b[1;32mreturn\u001b[0m \u001b[0mself\u001b[0m\u001b[1;33m.\u001b[0m\u001b[0m_getitem_multilevel\u001b[0m\u001b[1;33m(\u001b[0m\u001b[0mkey\u001b[0m\u001b[1;33m)\u001b[0m\u001b[1;33m\u001b[0m\u001b[1;33m\u001b[0m\u001b[0m\n\u001b[1;32m-> 3024\u001b[1;33m             \u001b[0mindexer\u001b[0m \u001b[1;33m=\u001b[0m \u001b[0mself\u001b[0m\u001b[1;33m.\u001b[0m\u001b[0mcolumns\u001b[0m\u001b[1;33m.\u001b[0m\u001b[0mget_loc\u001b[0m\u001b[1;33m(\u001b[0m\u001b[0mkey\u001b[0m\u001b[1;33m)\u001b[0m\u001b[1;33m\u001b[0m\u001b[1;33m\u001b[0m\u001b[0m\n\u001b[0m\u001b[0;32m   3025\u001b[0m             \u001b[1;32mif\u001b[0m \u001b[0mis_integer\u001b[0m\u001b[1;33m(\u001b[0m\u001b[0mindexer\u001b[0m\u001b[1;33m)\u001b[0m\u001b[1;33m:\u001b[0m\u001b[1;33m\u001b[0m\u001b[1;33m\u001b[0m\u001b[0m\n\u001b[0;32m   3026\u001b[0m                 \u001b[0mindexer\u001b[0m \u001b[1;33m=\u001b[0m \u001b[1;33m[\u001b[0m\u001b[0mindexer\u001b[0m\u001b[1;33m]\u001b[0m\u001b[1;33m\u001b[0m\u001b[1;33m\u001b[0m\u001b[0m\n",
      "\u001b[1;32m~\\Anaconda3\\lib\\site-packages\\pandas\\core\\indexes\\base.py\u001b[0m in \u001b[0;36mget_loc\u001b[1;34m(self, key, method, tolerance)\u001b[0m\n\u001b[0;32m   3080\u001b[0m                 \u001b[1;32mreturn\u001b[0m \u001b[0mself\u001b[0m\u001b[1;33m.\u001b[0m\u001b[0m_engine\u001b[0m\u001b[1;33m.\u001b[0m\u001b[0mget_loc\u001b[0m\u001b[1;33m(\u001b[0m\u001b[0mcasted_key\u001b[0m\u001b[1;33m)\u001b[0m\u001b[1;33m\u001b[0m\u001b[1;33m\u001b[0m\u001b[0m\n\u001b[0;32m   3081\u001b[0m             \u001b[1;32mexcept\u001b[0m \u001b[0mKeyError\u001b[0m \u001b[1;32mas\u001b[0m \u001b[0merr\u001b[0m\u001b[1;33m:\u001b[0m\u001b[1;33m\u001b[0m\u001b[1;33m\u001b[0m\u001b[0m\n\u001b[1;32m-> 3082\u001b[1;33m                 \u001b[1;32mraise\u001b[0m \u001b[0mKeyError\u001b[0m\u001b[1;33m(\u001b[0m\u001b[0mkey\u001b[0m\u001b[1;33m)\u001b[0m \u001b[1;32mfrom\u001b[0m \u001b[0merr\u001b[0m\u001b[1;33m\u001b[0m\u001b[1;33m\u001b[0m\u001b[0m\n\u001b[0m\u001b[0;32m   3083\u001b[0m \u001b[1;33m\u001b[0m\u001b[0m\n\u001b[0;32m   3084\u001b[0m         \u001b[1;32mif\u001b[0m \u001b[0mtolerance\u001b[0m \u001b[1;32mis\u001b[0m \u001b[1;32mnot\u001b[0m \u001b[1;32mNone\u001b[0m\u001b[1;33m:\u001b[0m\u001b[1;33m\u001b[0m\u001b[1;33m\u001b[0m\u001b[0m\n",
      "\u001b[1;31mKeyError\u001b[0m: 'Level_Presenteeism'"
     ]
    }
   ],
   "source": [
    "data[\"Level_Presenteeism\"].head()"
   ]
  },
  {
   "cell_type": "code",
   "execution_count": null,
   "metadata": {},
   "outputs": [],
   "source": []
  }
 ],
 "metadata": {
  "celltoolbar": "Raw Cell Format",
  "kernelspec": {
   "display_name": "Python 3",
   "language": "python",
   "name": "python3"
  },
  "language_info": {
   "codemirror_mode": {
    "name": "ipython",
    "version": 3
   },
   "file_extension": ".py",
   "mimetype": "text/x-python",
   "name": "python",
   "nbconvert_exporter": "python",
   "pygments_lexer": "ipython3",
   "version": "3.7.3"
  }
 },
 "nbformat": 4,
 "nbformat_minor": 4
}
